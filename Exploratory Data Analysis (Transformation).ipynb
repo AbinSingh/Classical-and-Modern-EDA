{
 "cells": [
  {
   "cell_type": "markdown",
   "id": "4a756597",
   "metadata": {},
   "source": [
    "             Feature Transformation and Scaling Techniques to Boost Your Model Performance"
   ]
  },
  {
   "cell_type": "markdown",
   "id": "4e3401a8",
   "metadata": {},
   "source": [
    "https://www.analyticsvidhya.com/blog/2020/07/types-of-feature-transformation-and-scaling/"
   ]
  },
  {
   "cell_type": "markdown",
   "id": "0e8fcf25",
   "metadata": {},
   "source": [
    "There are a couple of go-to techniques I always use regardless of the model I am using, or whether it is a classification task or regression task, or even an unsupervised learning model. These techniques are:\n",
    "\n",
    "Feature Transformation and\n",
    "Feature Scaling."
   ]
  },
  {
   "cell_type": "markdown",
   "id": "fd0471a9",
   "metadata": {},
   "source": [
    "Part-01\n",
    "Table of Contents\n",
    "1. Why do we need Feature Transformation and Scaling?\n",
    "2. MinMax Scaler (default range 0,1 - but we can define our own too)\n",
    "3. Standard Scaler (Mean as 0 and S.D as 1)\n",
    "4. MaxAbsScaler (Scales the data in the range -1,1)\n",
    "5. Robust Scaler (Range is Q3, Q1)\n",
    "6. Quantile Transformer Scaler\n",
    "7. Log Transformation\n",
    "8. Power Transformer Scaler\n",
    "9. Unit Vector Scaler/Normalizer"
   ]
  },
  {
   "cell_type": "markdown",
   "id": "fc515dca",
   "metadata": {},
   "source": [
    "Part-02\n",
    "Table of Contents\n",
    "1. Skewness and Kurtosis\n",
    "2. Visually Inspect the Distribution of Your Variables\n",
    "3. Measures of Skewness and Kurtosis in Python\n",
    "4. Square Root Transformation in Python\n",
    "5. Transforming Negatively Skewed Data with the Square Root Method\n",
    "6. Log Transformation in Python\n",
    "7. Log Transforming Negatively Skewed Data\n",
    "8. Box-Cox Transformation in Python\n",
    "9. Conclusion"
   ]
  },
  {
   "cell_type": "markdown",
   "id": "842afcf6",
   "metadata": {},
   "source": [
    "Why do we need Feature Transformation and Scaling?\n",
    "Oftentimes, we have datasets in which different columns have different units – like one column can be in kilograms, while another column can be in centimeters. Furthermore, we can have columns like income which can range from 20,000 to 100,000, and even more; while an age column which can range from 0 to 100(at the most). Thus, Income is about 1,000 times larger than age.\n",
    "\n",
    "But how can we be sure that the model treats both these variables equally? When we feed these features to the model as is, there is every chance that the income will influence the result more due to its larger value. But this doesn’t necessarily mean it is more important as a predictor. So, to give importance to both Age, and Income, we need feature scaling.\n",
    "\n",
    "In most examples of machine learning models, you would have observed either the Standard Scaler or MinMax Scaler. However, the powerful sklearn library offers many other feature transformations scaling techniques as well, which we can leverage depending on the data we are dealing with. So, what are you waiting for?"
   ]
  },
  {
   "cell_type": "code",
   "execution_count": 5,
   "id": "5f56d758",
   "metadata": {},
   "outputs": [],
   "source": [
    "import pandas as pd\n",
    "import numpy as np\n",
    "import matplotlib.pyplot as plt\n",
    "%matplotlib inline\n",
    "\n",
    "\n",
    "df = pd.DataFrame({\n",
    "    'Income': [15000, 1800, 120000, 10000],\n",
    "    'Age': [25, 18, 42, 51],\n",
    "    'Department': ['HR','Legal','Marketing','Management']\n",
    "})"
   ]
  },
  {
   "cell_type": "markdown",
   "id": "1a8696c9",
   "metadata": {},
   "source": [
    "Before directly applying any feature transformation or scaling technique, we need to remember the categorical column: Department and first deal with it. This is because we cannot scale non-numeric values.\n",
    "\n",
    "For that, we 1st create a copy of our dataframe and store the numerical feature names in a list, and their values as well:"
   ]
  },
  {
   "cell_type": "code",
   "execution_count": 6,
   "id": "7b37e33b",
   "metadata": {},
   "outputs": [],
   "source": [
    "df_scaled = df.copy()\n",
    "col_names = ['Income', 'Age']\n",
    "features = df_scaled[col_names]"
   ]
  },
  {
   "cell_type": "markdown",
   "id": "8f5627ff",
   "metadata": {},
   "source": [
    "                                        MinMax Scaler"
   ]
  },
  {
   "cell_type": "markdown",
   "id": "ae356a94",
   "metadata": {},
   "source": [
    "MinMax Scaler\n",
    "\n",
    "The MinMax scaler is one of the simplest scalers to understand.  It just scales all the data between 0 and 1. The formula for calculating the scaled value is-\n",
    "\n",
    "x_scaled = (x – x_min)/(x_max – x_min)\n",
    "Thus, a point to note is that it does so for every feature separately. Though (0, 1) is the default range, we can define our range of max and min values as well. "
   ]
  },
  {
   "cell_type": "code",
   "execution_count": 7,
   "id": "af2a435a",
   "metadata": {},
   "outputs": [
    {
     "data": {
      "text/html": [
       "<div>\n",
       "<style scoped>\n",
       "    .dataframe tbody tr th:only-of-type {\n",
       "        vertical-align: middle;\n",
       "    }\n",
       "\n",
       "    .dataframe tbody tr th {\n",
       "        vertical-align: top;\n",
       "    }\n",
       "\n",
       "    .dataframe thead th {\n",
       "        text-align: right;\n",
       "    }\n",
       "</style>\n",
       "<table border=\"1\" class=\"dataframe\">\n",
       "  <thead>\n",
       "    <tr style=\"text-align: right;\">\n",
       "      <th></th>\n",
       "      <th>Income</th>\n",
       "      <th>Age</th>\n",
       "      <th>Department</th>\n",
       "    </tr>\n",
       "  </thead>\n",
       "  <tbody>\n",
       "    <tr>\n",
       "      <th>0</th>\n",
       "      <td>0.111675</td>\n",
       "      <td>0.212121</td>\n",
       "      <td>HR</td>\n",
       "    </tr>\n",
       "    <tr>\n",
       "      <th>1</th>\n",
       "      <td>0.000000</td>\n",
       "      <td>0.000000</td>\n",
       "      <td>Legal</td>\n",
       "    </tr>\n",
       "    <tr>\n",
       "      <th>2</th>\n",
       "      <td>1.000000</td>\n",
       "      <td>0.727273</td>\n",
       "      <td>Marketing</td>\n",
       "    </tr>\n",
       "    <tr>\n",
       "      <th>3</th>\n",
       "      <td>0.069374</td>\n",
       "      <td>1.000000</td>\n",
       "      <td>Management</td>\n",
       "    </tr>\n",
       "  </tbody>\n",
       "</table>\n",
       "</div>"
      ],
      "text/plain": [
       "     Income       Age  Department\n",
       "0  0.111675  0.212121          HR\n",
       "1  0.000000  0.000000       Legal\n",
       "2  1.000000  0.727273   Marketing\n",
       "3  0.069374  1.000000  Management"
      ]
     },
     "execution_count": 7,
     "metadata": {},
     "output_type": "execute_result"
    }
   ],
   "source": [
    "#We will first need to import it\n",
    "\n",
    "from sklearn.preprocessing import MinMaxScaler\n",
    "scaler = MinMaxScaler()\n",
    "\n",
    "#Apply it on only the values of the features:\n",
    "\n",
    "df_scaled[col_names] = scaler.fit_transform(features.values)\n",
    "df_scaled"
   ]
  },
  {
   "cell_type": "markdown",
   "id": "5a4464b4",
   "metadata": {},
   "source": [
    "You can see how the values were scaled. The minimum value among the columns became 0, and the maximum value was changed to 1, with other values in between. However, suppose we don’t want the income or age to have values like 0. Let us take the range to be (5, 10)"
   ]
  },
  {
   "cell_type": "code",
   "execution_count": 8,
   "id": "bdfc112e",
   "metadata": {},
   "outputs": [
    {
     "data": {
      "text/html": [
       "<div>\n",
       "<style scoped>\n",
       "    .dataframe tbody tr th:only-of-type {\n",
       "        vertical-align: middle;\n",
       "    }\n",
       "\n",
       "    .dataframe tbody tr th {\n",
       "        vertical-align: top;\n",
       "    }\n",
       "\n",
       "    .dataframe thead th {\n",
       "        text-align: right;\n",
       "    }\n",
       "</style>\n",
       "<table border=\"1\" class=\"dataframe\">\n",
       "  <thead>\n",
       "    <tr style=\"text-align: right;\">\n",
       "      <th></th>\n",
       "      <th>Income</th>\n",
       "      <th>Age</th>\n",
       "      <th>Department</th>\n",
       "    </tr>\n",
       "  </thead>\n",
       "  <tbody>\n",
       "    <tr>\n",
       "      <th>0</th>\n",
       "      <td>5.558376</td>\n",
       "      <td>6.060606</td>\n",
       "      <td>HR</td>\n",
       "    </tr>\n",
       "    <tr>\n",
       "      <th>1</th>\n",
       "      <td>5.000000</td>\n",
       "      <td>5.000000</td>\n",
       "      <td>Legal</td>\n",
       "    </tr>\n",
       "    <tr>\n",
       "      <th>2</th>\n",
       "      <td>10.000000</td>\n",
       "      <td>8.636364</td>\n",
       "      <td>Marketing</td>\n",
       "    </tr>\n",
       "    <tr>\n",
       "      <th>3</th>\n",
       "      <td>5.346870</td>\n",
       "      <td>10.000000</td>\n",
       "      <td>Management</td>\n",
       "    </tr>\n",
       "  </tbody>\n",
       "</table>\n",
       "</div>"
      ],
      "text/plain": [
       "      Income        Age  Department\n",
       "0   5.558376   6.060606          HR\n",
       "1   5.000000   5.000000       Legal\n",
       "2  10.000000   8.636364   Marketing\n",
       "3   5.346870  10.000000  Management"
      ]
     },
     "execution_count": 8,
     "metadata": {},
     "output_type": "execute_result"
    }
   ],
   "source": [
    "from sklearn.preprocessing import MinMaxScaler\n",
    "scaler = MinMaxScaler(feature_range=(5, 10))\n",
    "\n",
    "df_scaled[col_names] = scaler.fit_transform(features.values)\n",
    "df_scaled"
   ]
  },
  {
   "cell_type": "markdown",
   "id": "2d706ad5",
   "metadata": {},
   "source": [
    "                                        Standard Scaler"
   ]
  },
  {
   "cell_type": "markdown",
   "id": "b016b5ae",
   "metadata": {},
   "source": [
    "Standard Scaler\n",
    "\n",
    "Just like the MinMax Scaler, the Standard Scaler is another popular scaler that is very easy to understand and implement.\n",
    "\n",
    "For each feature, the Standard Scaler scales the values such that the mean is 0 and the standard deviation is 1(or the variance).\n",
    "\n",
    "x_scaled = x – mean/std_dev\n",
    "\n",
    "However, Standard Scaler assumes that the distribution of the variable is normal. Thus, in case, the variables are not normally distributed, we\n",
    "\n",
    "either choose a different scaler\n",
    "or first, convert the variables to a normal distribution and then apply this scaler"
   ]
  },
  {
   "cell_type": "code",
   "execution_count": 9,
   "id": "b044759f",
   "metadata": {},
   "outputs": [
    {
     "data": {
      "text/html": [
       "<div>\n",
       "<style scoped>\n",
       "    .dataframe tbody tr th:only-of-type {\n",
       "        vertical-align: middle;\n",
       "    }\n",
       "\n",
       "    .dataframe tbody tr th {\n",
       "        vertical-align: top;\n",
       "    }\n",
       "\n",
       "    .dataframe thead th {\n",
       "        text-align: right;\n",
       "    }\n",
       "</style>\n",
       "<table border=\"1\" class=\"dataframe\">\n",
       "  <thead>\n",
       "    <tr style=\"text-align: right;\">\n",
       "      <th></th>\n",
       "      <th>Income</th>\n",
       "      <th>Age</th>\n",
       "      <th>Department</th>\n",
       "    </tr>\n",
       "  </thead>\n",
       "  <tbody>\n",
       "    <tr>\n",
       "      <th>0</th>\n",
       "      <td>-0.449056</td>\n",
       "      <td>-0.685248</td>\n",
       "      <td>HR</td>\n",
       "    </tr>\n",
       "    <tr>\n",
       "      <th>1</th>\n",
       "      <td>-0.722214</td>\n",
       "      <td>-1.218219</td>\n",
       "      <td>Legal</td>\n",
       "    </tr>\n",
       "    <tr>\n",
       "      <th>2</th>\n",
       "      <td>1.723796</td>\n",
       "      <td>0.609110</td>\n",
       "      <td>Marketing</td>\n",
       "    </tr>\n",
       "    <tr>\n",
       "      <th>3</th>\n",
       "      <td>-0.552525</td>\n",
       "      <td>1.294358</td>\n",
       "      <td>Management</td>\n",
       "    </tr>\n",
       "  </tbody>\n",
       "</table>\n",
       "</div>"
      ],
      "text/plain": [
       "     Income       Age  Department\n",
       "0 -0.449056 -0.685248          HR\n",
       "1 -0.722214 -1.218219       Legal\n",
       "2  1.723796  0.609110   Marketing\n",
       "3 -0.552525  1.294358  Management"
      ]
     },
     "execution_count": 9,
     "metadata": {},
     "output_type": "execute_result"
    }
   ],
   "source": [
    "from sklearn.preprocessing import StandardScaler\n",
    "scaler = StandardScaler()\n",
    "\n",
    "df_scaled[col_names] = scaler.fit_transform(features.values)\n",
    "df_scaled"
   ]
  },
  {
   "cell_type": "markdown",
   "id": "240a03bb",
   "metadata": {},
   "source": [
    "                                             MaxAbsScaler"
   ]
  },
  {
   "cell_type": "markdown",
   "id": "ab091474",
   "metadata": {},
   "source": [
    "MaxAbsScaler\n",
    "\n",
    "In simplest terms, the MaxAbs scaler takes the absolute maximum value of each column and divides each value in the column by the maximum value.\n",
    "\n",
    "Thus, it first takes the absolute value of each value in the column and then takes the maximum value out of those. This operation scales the data between the range [-1, 1].  To see how it works, we will add another column called ‘Balance” which contains negative values:"
   ]
  },
  {
   "cell_type": "code",
   "execution_count": 10,
   "id": "d4f87bd9",
   "metadata": {},
   "outputs": [
    {
     "data": {
      "text/html": [
       "<div>\n",
       "<style scoped>\n",
       "    .dataframe tbody tr th:only-of-type {\n",
       "        vertical-align: middle;\n",
       "    }\n",
       "\n",
       "    .dataframe tbody tr th {\n",
       "        vertical-align: top;\n",
       "    }\n",
       "\n",
       "    .dataframe thead th {\n",
       "        text-align: right;\n",
       "    }\n",
       "</style>\n",
       "<table border=\"1\" class=\"dataframe\">\n",
       "  <thead>\n",
       "    <tr style=\"text-align: right;\">\n",
       "      <th></th>\n",
       "      <th>Income</th>\n",
       "      <th>Age</th>\n",
       "      <th>Department</th>\n",
       "    </tr>\n",
       "  </thead>\n",
       "  <tbody>\n",
       "    <tr>\n",
       "      <th>0</th>\n",
       "      <td>0.125000</td>\n",
       "      <td>0.490196</td>\n",
       "      <td>HR</td>\n",
       "    </tr>\n",
       "    <tr>\n",
       "      <th>1</th>\n",
       "      <td>0.015000</td>\n",
       "      <td>0.352941</td>\n",
       "      <td>Legal</td>\n",
       "    </tr>\n",
       "    <tr>\n",
       "      <th>2</th>\n",
       "      <td>1.000000</td>\n",
       "      <td>0.823529</td>\n",
       "      <td>Marketing</td>\n",
       "    </tr>\n",
       "    <tr>\n",
       "      <th>3</th>\n",
       "      <td>0.083333</td>\n",
       "      <td>1.000000</td>\n",
       "      <td>Management</td>\n",
       "    </tr>\n",
       "  </tbody>\n",
       "</table>\n",
       "</div>"
      ],
      "text/plain": [
       "     Income       Age  Department\n",
       "0  0.125000  0.490196          HR\n",
       "1  0.015000  0.352941       Legal\n",
       "2  1.000000  0.823529   Marketing\n",
       "3  0.083333  1.000000  Management"
      ]
     },
     "execution_count": 10,
     "metadata": {},
     "output_type": "execute_result"
    }
   ],
   "source": [
    "df[\"Balance\"] = [100.0, -263.0, 2000.0, -5.0]\n",
    "from sklearn.preprocessing import MaxAbsScaler\n",
    "scaler = MaxAbsScaler()\n",
    "\n",
    "df_scaled[col_names] = scaler.fit_transform(features.values)\n",
    "df_scaled"
   ]
  },
  {
   "cell_type": "markdown",
   "id": "7888b9bd",
   "metadata": {},
   "source": [
    "                                             Robust Scaler"
   ]
  },
  {
   "cell_type": "markdown",
   "id": "1d929418",
   "metadata": {},
   "source": [
    "Robust Scaler\n",
    "\n",
    "If you have noticed in the scalers we used so far, each of them was using values like the mean, maximum and minimum values of the columns. All these values are sensitive to outliers. \n",
    "\n",
    "If there are too many outliers in the data, they will influence the mean and the max value or the min value. Thus, even if we scale this data using the above methods, we cannot guarantee a balanced data with a normal distribution."
   ]
  },
  {
   "cell_type": "markdown",
   "id": "ce01b773",
   "metadata": {},
   "source": [
    "The Robust Scaler, as the name suggests is not sensitive to outliers. This scaler-\n",
    "\n",
    "removes the median from the data\n",
    "scales the data by the InterQuartile Range(IQR)\n",
    "\n",
    "Are you familiar with the Inter-Quartile Range? It is nothing but the difference between the first and third quartile of the variable. The interquartile range can be defined as-\n",
    "\n",
    "IQR = Q3 – Q1\n",
    "\n",
    "Thus, the formula would be:\n",
    "\n",
    "x_scaled = (x – Q1)/(Q3 – Q1)\n",
    "\n",
    "This is the default range, though we can define our own range if we want to. Now let us see how can we implement the Robust Scaler in python:"
   ]
  },
  {
   "cell_type": "code",
   "execution_count": 11,
   "id": "85e6000e",
   "metadata": {},
   "outputs": [
    {
     "data": {
      "text/html": [
       "<div>\n",
       "<style scoped>\n",
       "    .dataframe tbody tr th:only-of-type {\n",
       "        vertical-align: middle;\n",
       "    }\n",
       "\n",
       "    .dataframe tbody tr th {\n",
       "        vertical-align: top;\n",
       "    }\n",
       "\n",
       "    .dataframe thead th {\n",
       "        text-align: right;\n",
       "    }\n",
       "</style>\n",
       "<table border=\"1\" class=\"dataframe\">\n",
       "  <thead>\n",
       "    <tr style=\"text-align: right;\">\n",
       "      <th></th>\n",
       "      <th>Income</th>\n",
       "      <th>Age</th>\n",
       "      <th>Department</th>\n",
       "    </tr>\n",
       "  </thead>\n",
       "  <tbody>\n",
       "    <tr>\n",
       "      <th>0</th>\n",
       "      <td>0.075075</td>\n",
       "      <td>-0.404762</td>\n",
       "      <td>HR</td>\n",
       "    </tr>\n",
       "    <tr>\n",
       "      <th>1</th>\n",
       "      <td>-0.321321</td>\n",
       "      <td>-0.738095</td>\n",
       "      <td>Legal</td>\n",
       "    </tr>\n",
       "    <tr>\n",
       "      <th>2</th>\n",
       "      <td>3.228228</td>\n",
       "      <td>0.404762</td>\n",
       "      <td>Marketing</td>\n",
       "    </tr>\n",
       "    <tr>\n",
       "      <th>3</th>\n",
       "      <td>-0.075075</td>\n",
       "      <td>0.833333</td>\n",
       "      <td>Management</td>\n",
       "    </tr>\n",
       "  </tbody>\n",
       "</table>\n",
       "</div>"
      ],
      "text/plain": [
       "     Income       Age  Department\n",
       "0  0.075075 -0.404762          HR\n",
       "1 -0.321321 -0.738095       Legal\n",
       "2  3.228228  0.404762   Marketing\n",
       "3 -0.075075  0.833333  Management"
      ]
     },
     "execution_count": 11,
     "metadata": {},
     "output_type": "execute_result"
    }
   ],
   "source": [
    "from sklearn.preprocessing import RobustScaler\n",
    "scaler = RobustScaler()\n",
    "\n",
    "df_scaled[col_names] = scaler.fit_transform(features.values)\n",
    "df_scaled"
   ]
  },
  {
   "cell_type": "markdown",
   "id": "dc1de960",
   "metadata": {},
   "source": [
    "                                    Quantile Transformer Scaler"
   ]
  },
  {
   "cell_type": "markdown",
   "id": "5d8e0848",
   "metadata": {},
   "source": [
    "One of the most interesting feature transformation techniques that I have used, the Quantile Transformer Scaler converts the variable distribution to a normal distribution. and scales it accordingly. \n",
    "Since it makes the variable normally distributed, it also deals with the outliers. Here are a few important points regarding the Quantile Transformer Scaler:\n",
    "\n",
    "1. It computes the cumulative distribution function of the variable\n",
    "\n",
    "2. It uses this cdf to map the values to a normal distribution\n",
    "\n",
    "3. Maps the obtained values to the desired output distribution using the associated quantile function\n",
    "\n",
    "A caveat to keep in mind though: Since this scaler changes the very distribution of the variables, linear relationships among variables may be destroyed by using this scaler. \n",
    "\n",
    "Thus, it is best to use this for non-linear data. Here is the code for using the Quantile Transformer:"
   ]
  },
  {
   "cell_type": "code",
   "execution_count": 12,
   "id": "de51e6d7",
   "metadata": {},
   "outputs": [
    {
     "name": "stderr",
     "output_type": "stream",
     "text": [
      "C:\\Users\\AbinSRajan\\anaconda3\\lib\\site-packages\\sklearn\\preprocessing\\_data.py:2612: UserWarning: n_quantiles (1000) is greater than the total number of samples (4). n_quantiles is set to n_samples.\n",
      "  warnings.warn(\"n_quantiles (%s) is greater than the total number \"\n"
     ]
    },
    {
     "data": {
      "text/html": [
       "<div>\n",
       "<style scoped>\n",
       "    .dataframe tbody tr th:only-of-type {\n",
       "        vertical-align: middle;\n",
       "    }\n",
       "\n",
       "    .dataframe tbody tr th {\n",
       "        vertical-align: top;\n",
       "    }\n",
       "\n",
       "    .dataframe thead th {\n",
       "        text-align: right;\n",
       "    }\n",
       "</style>\n",
       "<table border=\"1\" class=\"dataframe\">\n",
       "  <thead>\n",
       "    <tr style=\"text-align: right;\">\n",
       "      <th></th>\n",
       "      <th>Income</th>\n",
       "      <th>Age</th>\n",
       "      <th>Department</th>\n",
       "    </tr>\n",
       "  </thead>\n",
       "  <tbody>\n",
       "    <tr>\n",
       "      <th>0</th>\n",
       "      <td>0.666667</td>\n",
       "      <td>0.333333</td>\n",
       "      <td>HR</td>\n",
       "    </tr>\n",
       "    <tr>\n",
       "      <th>1</th>\n",
       "      <td>0.000000</td>\n",
       "      <td>0.000000</td>\n",
       "      <td>Legal</td>\n",
       "    </tr>\n",
       "    <tr>\n",
       "      <th>2</th>\n",
       "      <td>1.000000</td>\n",
       "      <td>0.666667</td>\n",
       "      <td>Marketing</td>\n",
       "    </tr>\n",
       "    <tr>\n",
       "      <th>3</th>\n",
       "      <td>0.333333</td>\n",
       "      <td>1.000000</td>\n",
       "      <td>Management</td>\n",
       "    </tr>\n",
       "  </tbody>\n",
       "</table>\n",
       "</div>"
      ],
      "text/plain": [
       "     Income       Age  Department\n",
       "0  0.666667  0.333333          HR\n",
       "1  0.000000  0.000000       Legal\n",
       "2  1.000000  0.666667   Marketing\n",
       "3  0.333333  1.000000  Management"
      ]
     },
     "execution_count": 12,
     "metadata": {},
     "output_type": "execute_result"
    }
   ],
   "source": [
    "from sklearn.preprocessing import QuantileTransformer\n",
    "scaler = QuantileTransformer()\n",
    "\n",
    "df_scaled[col_names] = scaler.fit_transform(features.values)\n",
    "df_scaled"
   ]
  },
  {
   "cell_type": "markdown",
   "id": "ef529734",
   "metadata": {},
   "source": [
    "https://machinelearningmastery.com/quantile-transforms-for-machine-learning/\n",
    "\n",
    "https://medium.datadriveninvestor.com/data-pre-processing-with-scikit-learn-9896c561ef2f"
   ]
  },
  {
   "cell_type": "markdown",
   "id": "e9464a6d",
   "metadata": {},
   "source": [
    "                                        Log Transform"
   ]
  },
  {
   "cell_type": "markdown",
   "id": "3a88e79d",
   "metadata": {},
   "source": [
    "Log Transform\n",
    "The Log Transform is one of the most popular Transformation techniques out there. It is primarily used to convert a skewed distribution to a normal distribution/less-skewed distribution. In this transform, we take the log of the values in a column and use these values as the column instead.\n",
    "\n",
    "Why does it work? It is because the log function is equipped to deal with large numbers. Here is an example-\n",
    "\n",
    "log(10) = 1\n",
    "\n",
    "log(100) = 2, and\n",
    "\n",
    "log(10000) = 4."
   ]
  },
  {
   "cell_type": "code",
   "execution_count": 14,
   "id": "aaa6c3ed",
   "metadata": {},
   "outputs": [
    {
     "data": {
      "text/html": [
       "<div>\n",
       "<style scoped>\n",
       "    .dataframe tbody tr th:only-of-type {\n",
       "        vertical-align: middle;\n",
       "    }\n",
       "\n",
       "    .dataframe tbody tr th {\n",
       "        vertical-align: top;\n",
       "    }\n",
       "\n",
       "    .dataframe thead th {\n",
       "        text-align: right;\n",
       "    }\n",
       "</style>\n",
       "<table border=\"1\" class=\"dataframe\">\n",
       "  <thead>\n",
       "    <tr style=\"text-align: right;\">\n",
       "      <th></th>\n",
       "      <th>Income</th>\n",
       "      <th>Age</th>\n",
       "      <th>Department</th>\n",
       "      <th>Balance</th>\n",
       "      <th>log_income</th>\n",
       "    </tr>\n",
       "  </thead>\n",
       "  <tbody>\n",
       "    <tr>\n",
       "      <th>0</th>\n",
       "      <td>15000</td>\n",
       "      <td>25</td>\n",
       "      <td>HR</td>\n",
       "      <td>100.0</td>\n",
       "      <td>9.615805</td>\n",
       "    </tr>\n",
       "    <tr>\n",
       "      <th>1</th>\n",
       "      <td>1800</td>\n",
       "      <td>18</td>\n",
       "      <td>Legal</td>\n",
       "      <td>-263.0</td>\n",
       "      <td>7.495542</td>\n",
       "    </tr>\n",
       "    <tr>\n",
       "      <th>2</th>\n",
       "      <td>120000</td>\n",
       "      <td>42</td>\n",
       "      <td>Marketing</td>\n",
       "      <td>2000.0</td>\n",
       "      <td>11.695247</td>\n",
       "    </tr>\n",
       "    <tr>\n",
       "      <th>3</th>\n",
       "      <td>10000</td>\n",
       "      <td>51</td>\n",
       "      <td>Management</td>\n",
       "      <td>-5.0</td>\n",
       "      <td>9.210340</td>\n",
       "    </tr>\n",
       "  </tbody>\n",
       "</table>\n",
       "</div>"
      ],
      "text/plain": [
       "   Income  Age  Department  Balance  log_income\n",
       "0   15000   25          HR    100.0    9.615805\n",
       "1    1800   18       Legal   -263.0    7.495542\n",
       "2  120000   42   Marketing   2000.0   11.695247\n",
       "3   10000   51  Management     -5.0    9.210340"
      ]
     },
     "execution_count": 14,
     "metadata": {},
     "output_type": "execute_result"
    }
   ],
   "source": [
    "df['log_income'] = np.log(df['Income'])\n",
    "# We created a new column to store the log values\n",
    "df"
   ]
  },
  {
   "cell_type": "markdown",
   "id": "82cf4be4",
   "metadata": {},
   "source": [
    "Wow! While our Income column had extreme values ranging from 1800 to 1,20,000 – the log values are now ranging from approximately 7.5 to 11.7! Thus, the log operation had a dual role:\n",
    "\n",
    "Reducing the impact of too-low values\n",
    "Reducing the impact of too-high values."
   ]
  },
  {
   "cell_type": "markdown",
   "id": "104e9592",
   "metadata": {},
   "source": [
    "A small caveat though – if our data has negative values or values ranging from 0 to 1, we cannot apply log transform directly – since the log of negative numbers and numbers between 0 and 1 is undefined, we would get error or NaN values in our data. In such cases, we can add a number to these values to make them all greater than 1. Then, we can apply the log transform."
   ]
  },
  {
   "cell_type": "markdown",
   "id": "86b30bca",
   "metadata": {},
   "source": [
    "https://stats.stackexchange.com/questions/107610/what-is-the-reason-the-log-transformation-is-used-with-right-skewed-distribution\n",
    "\n",
    "https://rcompanion.org/handbook/I_12.html\n",
    "\n",
    "https://www.marsja.se/transform-skewed-data-using-square-root-log-box-cox-methods-in-python/"
   ]
  },
  {
   "cell_type": "markdown",
   "id": "84c0ffe6",
   "metadata": {},
   "source": [
    "                                     Power Transformer Scaler"
   ]
  },
  {
   "cell_type": "markdown",
   "id": "107b2d02",
   "metadata": {},
   "source": [
    "I often use this feature transformation technique when I am building a linear model. To be more specific, I use it when I am dealing with heteroskedasticity. \n",
    "Like some other scalers we studied above, the Power Transformer also changes the distribution of the variable, as in, it makes it more Gaussian(normal). \n",
    "We are familiar with similar power transforms such as square root, and cube root transforms, and log transforms."
   ]
  },
  {
   "cell_type": "markdown",
   "id": "7306d16e",
   "metadata": {},
   "source": [
    "However, to use them, we need to first study the original distribution, and then make a choice. The Power Transformer actually automates this decision making by introducing a parameter called lambda. It decides on a generalized power transform by finding the best value of lambda using either the:\n",
    "\n",
    "1. Box-Cox transform\n",
    "\n",
    "2. The Yeo-Johnson transform\n",
    "\n",
    "While I will not get into too much detail of how each of the above transforms works, it is helpful to know that Box-Cox works with only positive values, while Yeo-Johnson works with both positive and negative values.\n",
    "\n",
    "In our case, we will use the Box-Cox transform since all our values are positive."
   ]
  },
  {
   "cell_type": "code",
   "execution_count": 15,
   "id": "cf586d51",
   "metadata": {},
   "outputs": [
    {
     "data": {
      "text/html": [
       "<div>\n",
       "<style scoped>\n",
       "    .dataframe tbody tr th:only-of-type {\n",
       "        vertical-align: middle;\n",
       "    }\n",
       "\n",
       "    .dataframe tbody tr th {\n",
       "        vertical-align: top;\n",
       "    }\n",
       "\n",
       "    .dataframe thead th {\n",
       "        text-align: right;\n",
       "    }\n",
       "</style>\n",
       "<table border=\"1\" class=\"dataframe\">\n",
       "  <thead>\n",
       "    <tr style=\"text-align: right;\">\n",
       "      <th></th>\n",
       "      <th>Income</th>\n",
       "      <th>Age</th>\n",
       "      <th>Department</th>\n",
       "    </tr>\n",
       "  </thead>\n",
       "  <tbody>\n",
       "    <tr>\n",
       "      <th>0</th>\n",
       "      <td>0.125158</td>\n",
       "      <td>-0.597385</td>\n",
       "      <td>HR</td>\n",
       "    </tr>\n",
       "    <tr>\n",
       "      <th>1</th>\n",
       "      <td>-1.395497</td>\n",
       "      <td>-1.301984</td>\n",
       "      <td>Legal</td>\n",
       "    </tr>\n",
       "    <tr>\n",
       "      <th>2</th>\n",
       "      <td>1.419403</td>\n",
       "      <td>0.681202</td>\n",
       "      <td>Marketing</td>\n",
       "    </tr>\n",
       "    <tr>\n",
       "      <th>3</th>\n",
       "      <td>-0.149064</td>\n",
       "      <td>1.218168</td>\n",
       "      <td>Management</td>\n",
       "    </tr>\n",
       "  </tbody>\n",
       "</table>\n",
       "</div>"
      ],
      "text/plain": [
       "     Income       Age  Department\n",
       "0  0.125158 -0.597385          HR\n",
       "1 -1.395497 -1.301984       Legal\n",
       "2  1.419403  0.681202   Marketing\n",
       "3 -0.149064  1.218168  Management"
      ]
     },
     "execution_count": 15,
     "metadata": {},
     "output_type": "execute_result"
    }
   ],
   "source": [
    "from sklearn.preprocessing import PowerTransformer\n",
    "\n",
    "scaler = PowerTransformer(method = 'box-cox')\n",
    "\n",
    "'''\n",
    "parameters:\n",
    "method = 'box-cox' or 'yeo-johnson'\n",
    "'''\n",
    "\n",
    "df_scaled[col_names] = scaler.fit_transform(features.values)\n",
    "df_scaled"
   ]
  },
  {
   "cell_type": "markdown",
   "id": "56ee7eb4",
   "metadata": {},
   "source": [
    "                                   Unit Vector Scaler/Normalizer"
   ]
  },
  {
   "cell_type": "markdown",
   "id": "cf4fd19e",
   "metadata": {},
   "source": [
    "Unit Vector Scaler/Normalizer\n",
    "Normalization is the process of scaling individual samples to have unit norm. The most interesting part is that unlike the other scalers which work on the individual column values, the Normalizer works on the rows! Each row of the dataframe with at least one non-zero component is rescaled independently of other samples so that its norm (l1, l2, or inf) equals one.\n",
    "\n",
    "Just like MinMax Scaler, the Normalizer also converts the values between 0 and 1, and between -1 to 1 when there are negative values in our data.\n",
    "\n",
    "However, there is a difference in the way it does so.\n",
    "\n",
    "If we are using L1 norm, the values in each column are converted so that the sum of their absolute values along the row = 1\n",
    "If we are using L2 norm, the values in each column are first squared and added so that the sum of their absolute values along the row = 1"
   ]
  },
  {
   "cell_type": "code",
   "execution_count": 16,
   "id": "c00c505f",
   "metadata": {},
   "outputs": [
    {
     "data": {
      "text/html": [
       "<div>\n",
       "<style scoped>\n",
       "    .dataframe tbody tr th:only-of-type {\n",
       "        vertical-align: middle;\n",
       "    }\n",
       "\n",
       "    .dataframe tbody tr th {\n",
       "        vertical-align: top;\n",
       "    }\n",
       "\n",
       "    .dataframe thead th {\n",
       "        text-align: right;\n",
       "    }\n",
       "</style>\n",
       "<table border=\"1\" class=\"dataframe\">\n",
       "  <thead>\n",
       "    <tr style=\"text-align: right;\">\n",
       "      <th></th>\n",
       "      <th>Income</th>\n",
       "      <th>Age</th>\n",
       "      <th>Department</th>\n",
       "    </tr>\n",
       "  </thead>\n",
       "  <tbody>\n",
       "    <tr>\n",
       "      <th>0</th>\n",
       "      <td>0.999999</td>\n",
       "      <td>0.001667</td>\n",
       "      <td>HR</td>\n",
       "    </tr>\n",
       "    <tr>\n",
       "      <th>1</th>\n",
       "      <td>0.999950</td>\n",
       "      <td>0.010000</td>\n",
       "      <td>Legal</td>\n",
       "    </tr>\n",
       "    <tr>\n",
       "      <th>2</th>\n",
       "      <td>1.000000</td>\n",
       "      <td>0.000350</td>\n",
       "      <td>Marketing</td>\n",
       "    </tr>\n",
       "    <tr>\n",
       "      <th>3</th>\n",
       "      <td>0.999987</td>\n",
       "      <td>0.005100</td>\n",
       "      <td>Management</td>\n",
       "    </tr>\n",
       "  </tbody>\n",
       "</table>\n",
       "</div>"
      ],
      "text/plain": [
       "     Income       Age  Department\n",
       "0  0.999999  0.001667          HR\n",
       "1  0.999950  0.010000       Legal\n",
       "2  1.000000  0.000350   Marketing\n",
       "3  0.999987  0.005100  Management"
      ]
     },
     "execution_count": 16,
     "metadata": {},
     "output_type": "execute_result"
    }
   ],
   "source": [
    "from sklearn.preprocessing import Normalizer\n",
    "scaler = Normalizer(norm = 'l2')\n",
    "# norm = 'l2' is default\n",
    "\n",
    "df_scaled[col_names] = scaler.fit_transform(features.values)\n",
    "df_scaled"
   ]
  },
  {
   "cell_type": "markdown",
   "id": "31d314a6",
   "metadata": {},
   "source": [
    "                                        Custom Transformer"
   ]
  },
  {
   "cell_type": "markdown",
   "id": "4171b7f0",
   "metadata": {},
   "source": [
    "Custom Transformer\n",
    "Consider this situation – Suppose you have your own Python function to transform the data. Sklearn also provides the ability to apply this transform to our dataset using what is called a FunctionTransformer.\n",
    "\n",
    "Let us take a simple example. I have a feature transformation technique that involves taking (log to the base 2) of the values. In NumPy, there is a function called log2 which does that for us.\n",
    "\n",
    "Thus, we can now apply the FunctionTransformer:"
   ]
  },
  {
   "cell_type": "code",
   "execution_count": 17,
   "id": "56494dfb",
   "metadata": {},
   "outputs": [
    {
     "data": {
      "text/html": [
       "<div>\n",
       "<style scoped>\n",
       "    .dataframe tbody tr th:only-of-type {\n",
       "        vertical-align: middle;\n",
       "    }\n",
       "\n",
       "    .dataframe tbody tr th {\n",
       "        vertical-align: top;\n",
       "    }\n",
       "\n",
       "    .dataframe thead th {\n",
       "        text-align: right;\n",
       "    }\n",
       "</style>\n",
       "<table border=\"1\" class=\"dataframe\">\n",
       "  <thead>\n",
       "    <tr style=\"text-align: right;\">\n",
       "      <th></th>\n",
       "      <th>Income</th>\n",
       "      <th>Age</th>\n",
       "      <th>Department</th>\n",
       "    </tr>\n",
       "  </thead>\n",
       "  <tbody>\n",
       "    <tr>\n",
       "      <th>0</th>\n",
       "      <td>13.872675</td>\n",
       "      <td>4.643856</td>\n",
       "      <td>HR</td>\n",
       "    </tr>\n",
       "    <tr>\n",
       "      <th>1</th>\n",
       "      <td>10.813781</td>\n",
       "      <td>4.169925</td>\n",
       "      <td>Legal</td>\n",
       "    </tr>\n",
       "    <tr>\n",
       "      <th>2</th>\n",
       "      <td>16.872675</td>\n",
       "      <td>5.392317</td>\n",
       "      <td>Marketing</td>\n",
       "    </tr>\n",
       "    <tr>\n",
       "      <th>3</th>\n",
       "      <td>13.287712</td>\n",
       "      <td>5.672425</td>\n",
       "      <td>Management</td>\n",
       "    </tr>\n",
       "  </tbody>\n",
       "</table>\n",
       "</div>"
      ],
      "text/plain": [
       "      Income       Age  Department\n",
       "0  13.872675  4.643856          HR\n",
       "1  10.813781  4.169925       Legal\n",
       "2  16.872675  5.392317   Marketing\n",
       "3  13.287712  5.672425  Management"
      ]
     },
     "execution_count": 17,
     "metadata": {},
     "output_type": "execute_result"
    }
   ],
   "source": [
    "from sklearn.preprocessing import FunctionTransformer\n",
    "transformer = FunctionTransformer(np.log2, validate = True)\n",
    "\n",
    "df_scaled[col_names] = transformer.transform(features.values)\n",
    "df_scaled"
   ]
  },
  {
   "cell_type": "markdown",
   "id": "58c97a73",
   "metadata": {},
   "source": [
    "End Notes\n",
    "To summarize saw the effects of feature transformation and scaling on our data and when to use which scaler. Also, we noticed that some scalers were sensitive to outliers, while others were robust. We also noticed how some scalers change the underlying distribution of the data itself.\n",
    "\n",
    "Each feature scaling technique has its own characteristics which we can leverage to improve our model. However, just like other steps in building a predictive model, choosing the right scaler is also a trial and error process, and there is no single best scaler that works every time.\n",
    "\n",
    "Keeping all these in mind, I encourage you to take up various datasets with different kinds of values and try applying these feature transformation and scaling techniques on them. "
   ]
  },
  {
   "cell_type": "markdown",
   "id": "b8574a56",
   "metadata": {},
   "source": [
    "https://www.marsja.se/transform-skewed-data-using-square-root-log-box-cox-methods-in-python/"
   ]
  },
  {
   "cell_type": "markdown",
   "id": "1eea2b1a",
   "metadata": {},
   "source": [
    "                                     Skewness and Kurtosis"
   ]
  },
  {
   "cell_type": "markdown",
   "id": "c1f71004",
   "metadata": {},
   "source": [
    "Skewness and Kurtosis\n",
    "Briefly, skewness is a measure of symmetry. To be exact, it is a measure of lack of symmetry. This means that the larger the number is the more your data lack symmetry (not normal, that is). Kurtosis, on the other hand, is a measure of whether your data is heavy- or light-tailed relative to a normal distribution. See here for a more mathematical definition of both measures. A good way to visually examine data for skewness or kurtosis is to use a histogram. Note, however, that there are, of course, also different statistical tests that can be used to test if your data is normally distributed."
   ]
  },
  {
   "cell_type": "code",
   "execution_count": 21,
   "id": "ed09e9b1",
   "metadata": {},
   "outputs": [
    {
     "data": {
      "text/html": [
       "<div>\n",
       "<style scoped>\n",
       "    .dataframe tbody tr th:only-of-type {\n",
       "        vertical-align: middle;\n",
       "    }\n",
       "\n",
       "    .dataframe tbody tr th {\n",
       "        vertical-align: top;\n",
       "    }\n",
       "\n",
       "    .dataframe thead th {\n",
       "        text-align: right;\n",
       "    }\n",
       "</style>\n",
       "<table border=\"1\" class=\"dataframe\">\n",
       "  <thead>\n",
       "    <tr style=\"text-align: right;\">\n",
       "      <th></th>\n",
       "      <th>Moderate Positive Skew</th>\n",
       "      <th>Highly Positive Skew</th>\n",
       "      <th>Moderate Negative Skew</th>\n",
       "      <th>Highly Negative Skew</th>\n",
       "    </tr>\n",
       "  </thead>\n",
       "  <tbody>\n",
       "    <tr>\n",
       "      <th>0</th>\n",
       "      <td>0.899990</td>\n",
       "      <td>2.895074</td>\n",
       "      <td>11.180748</td>\n",
       "      <td>9.027485</td>\n",
       "    </tr>\n",
       "    <tr>\n",
       "      <th>1</th>\n",
       "      <td>1.113554</td>\n",
       "      <td>2.962385</td>\n",
       "      <td>10.842938</td>\n",
       "      <td>9.009762</td>\n",
       "    </tr>\n",
       "  </tbody>\n",
       "</table>\n",
       "</div>"
      ],
      "text/plain": [
       "   Moderate Positive Skew  Highly Positive Skew  Moderate Negative Skew  \\\n",
       "0                0.899990              2.895074               11.180748   \n",
       "1                1.113554              2.962385               10.842938   \n",
       "\n",
       "   Highly Negative Skew  \n",
       "0              9.027485  \n",
       "1              9.009762  "
      ]
     },
     "execution_count": 21,
     "metadata": {},
     "output_type": "execute_result"
    }
   ],
   "source": [
    "import os\n",
    "os.chdir('C:/Users/AbinSRajan/OneDrive - Enquero/Desktop/Project/Gen_Notebook')\n",
    "# Reading dataset with skewed distributions\n",
    "df = pd.read_csv('Data_to_Transform.csv')\n",
    "df.head(2)"
   ]
  },
  {
   "cell_type": "markdown",
   "id": "c055868d",
   "metadata": {},
   "source": [
    "                        Visually Inspect the Distribution of Your Variables"
   ]
  },
  {
   "cell_type": "code",
   "execution_count": 22,
   "id": "2b0b3a60",
   "metadata": {},
   "outputs": [
    {
     "data": {
      "text/plain": [
       "array([[<AxesSubplot:title={'center':'Moderate Positive Skew'}>,\n",
       "        <AxesSubplot:title={'center':'Highly Positive Skew'}>],\n",
       "       [<AxesSubplot:title={'center':'Moderate Negative Skew'}>,\n",
       "        <AxesSubplot:title={'center':'Highly Negative Skew'}>]],\n",
       "      dtype=object)"
      ]
     },
     "execution_count": 22,
     "metadata": {},
     "output_type": "execute_result"
    },
    {
     "data": {
      "image/png": "[encoded data removed]",
      "text/plain": [
       "<Figure size 720x432 with 4 Axes>"
      ]
     },
     "metadata": {
      "needs_background": "light"
     },
     "output_type": "display_data"
    }
   ],
   "source": [
    "df.hist(grid=False,\n",
    "       figsize=(10, 6),\n",
    "       bins=30)"
   ]
  },
  {
   "cell_type": "markdown",
   "id": "c17c892e",
   "metadata": {},
   "source": [
    "Measures of Skewness and Kurtosis in Python"
   ]
  },
  {
   "cell_type": "markdown",
   "id": "0a380749",
   "metadata": {},
   "source": [
    "In this section, before we start learning how to transform skewed data in Python, we will just have a quick look at how to get skewness and kurtosis in Python. \n",
    "\n",
    "In the code chunk above, we used the agg() method and used a list as the only parameter. This list contained the two methods that we wanted to use (i.e., we wanted to calculate skewness and kurtosis). Finally, we used the transpose() method to change the rows to columns (i.e., transpose the Pandas dataframe) so that we get an output that is a bit easier to check. Here’s the resulting table:\n",
    "    \n",
    "\tSkewness\n",
    "Fairly Symmetrical\t-0.5 to 0.5\n",
    "Moderate Skewed\t-0.5 to -1.0 and 0.5 to 1.0\n",
    "Highly Skewed\t< -1.0 and > 1.0\n",
    "\n",
    "There are, of course, more things that can be done to test whether our data is normally distributed. For example, we can carry out statistical tests of normality such as the Shapiro-Wilks test. It is worth noting, however, that most of these tests are susceptible for the sample size. That is, even small deviations from normality will be found using e.g. the Shapiro-Wilks test."
   ]
  },
  {
   "cell_type": "code",
   "execution_count": 23,
   "id": "76615466",
   "metadata": {},
   "outputs": [
    {
     "data": {
      "text/html": [
       "<div>\n",
       "<style scoped>\n",
       "    .dataframe tbody tr th:only-of-type {\n",
       "        vertical-align: middle;\n",
       "    }\n",
       "\n",
       "    .dataframe tbody tr th {\n",
       "        vertical-align: top;\n",
       "    }\n",
       "\n",
       "    .dataframe thead th {\n",
       "        text-align: right;\n",
       "    }\n",
       "</style>\n",
       "<table border=\"1\" class=\"dataframe\">\n",
       "  <thead>\n",
       "    <tr style=\"text-align: right;\">\n",
       "      <th></th>\n",
       "      <th>skew</th>\n",
       "      <th>kurtosis</th>\n",
       "    </tr>\n",
       "  </thead>\n",
       "  <tbody>\n",
       "    <tr>\n",
       "      <th>Moderate Positive Skew</th>\n",
       "      <td>0.656308</td>\n",
       "      <td>0.584120</td>\n",
       "    </tr>\n",
       "    <tr>\n",
       "      <th>Highly Positive Skew</th>\n",
       "      <td>1.271249</td>\n",
       "      <td>2.405999</td>\n",
       "    </tr>\n",
       "    <tr>\n",
       "      <th>Moderate Negative Skew</th>\n",
       "      <td>-0.690244</td>\n",
       "      <td>0.790534</td>\n",
       "    </tr>\n",
       "    <tr>\n",
       "      <th>Highly Negative Skew</th>\n",
       "      <td>-1.201891</td>\n",
       "      <td>2.086863</td>\n",
       "    </tr>\n",
       "  </tbody>\n",
       "</table>\n",
       "</div>"
      ],
      "text/plain": [
       "                            skew  kurtosis\n",
       "Moderate Positive Skew  0.656308  0.584120\n",
       "Highly Positive Skew    1.271249  2.405999\n",
       "Moderate Negative Skew -0.690244  0.790534\n",
       "Highly Negative Skew   -1.201891  2.086863"
      ]
     },
     "execution_count": 23,
     "metadata": {},
     "output_type": "execute_result"
    }
   ],
   "source": [
    "df.agg(['skew', 'kurtosis']).transpose()"
   ]
  },
  {
   "cell_type": "markdown",
   "id": "f9b37020",
   "metadata": {},
   "source": [
    "                                Square Root Transformation in Python"
   ]
  },
  {
   "cell_type": "code",
   "execution_count": 25,
   "id": "ed2f5d98",
   "metadata": {},
   "outputs": [],
   "source": [
    "# Python Square root transformation\n",
    "df.insert(len(df.columns), 'A_Sqrt',\n",
    "         np.sqrt(df.iloc[:,0]))"
   ]
  },
  {
   "cell_type": "code",
   "execution_count": 27,
   "id": "1354d8d7",
   "metadata": {},
   "outputs": [
    {
     "data": {
      "text/plain": [
       "<AxesSubplot:>"
      ]
     },
     "execution_count": 27,
     "metadata": {},
     "output_type": "execute_result"
    },
    {
     "data": {
      "image/png": "[encoded data removed]",
      "text/plain": [
       "<Figure size 432x288 with 1 Axes>"
      ]
     },
     "metadata": {
      "needs_background": "light"
     },
     "output_type": "display_data"
    }
   ],
   "source": [
    "df['A_Sqrt'].hist(bins=30)"
   ]
  },
  {
   "cell_type": "markdown",
   "id": "06c37007",
   "metadata": {},
   "source": [
    "                       Transforming Negatively Skewed Data with the Square Root Method"
   ]
  },
  {
   "cell_type": "markdown",
   "id": "5f8334b7",
   "metadata": {},
   "source": [
    "What we did, above, was to reverse the distribution (i.e., max(df.iloc[:, 2] + 1) - df.iloc[:, 2]) and then applied the square root transformation. You can see, in the image below, that skewness becomes positive when reverting the negatively skewed distribution. "
   ]
  },
  {
   "cell_type": "code",
   "execution_count": 29,
   "id": "f3c0e2db",
   "metadata": {},
   "outputs": [],
   "source": [
    "# Square root transormation on left skewed data in Python:\n",
    "df.insert(len(df.columns), 'B_Sqrt',\n",
    "         np.sqrt(max(df.iloc[:, 2]+1) - df.iloc[:, 2]))"
   ]
  },
  {
   "cell_type": "code",
   "execution_count": 30,
   "id": "ed2a498f",
   "metadata": {},
   "outputs": [
    {
     "data": {
      "text/plain": [
       "<AxesSubplot:>"
      ]
     },
     "execution_count": 30,
     "metadata": {},
     "output_type": "execute_result"
    },
    {
     "data": {
      "image/png": "[encoded data removed]",
      "text/plain": [
       "<Figure size 432x288 with 1 Axes>"
      ]
     },
     "metadata": {
      "needs_background": "light"
     },
     "output_type": "display_data"
    }
   ],
   "source": [
    "df['B_Sqrt'].hist(bins=30)"
   ]
  },
  {
   "cell_type": "markdown",
   "id": "657e3745",
   "metadata": {},
   "source": [
    "                                  Log Transformation in Python"
   ]
  },
  {
   "cell_type": "code",
   "execution_count": 31,
   "id": "21bbb400",
   "metadata": {},
   "outputs": [
    {
     "data": {
      "text/plain": [
       "<AxesSubplot:>"
      ]
     },
     "execution_count": 31,
     "metadata": {},
     "output_type": "execute_result"
    },
    {
     "data": {
      "image/png": "[encoded data removed]",
      "text/plain": [
       "<Figure size 432x288 with 1 Axes>"
      ]
     },
     "metadata": {
      "needs_background": "light"
     },
     "output_type": "display_data"
    }
   ],
   "source": [
    "# Python log transform\n",
    "df.insert(len(df.columns), 'C_log',\n",
    "         np.log(df['Highly Positive Skew']))\n",
    "\n",
    "df['C_log'].hist(bins=30)"
   ]
  },
  {
   "cell_type": "markdown",
   "id": "82c243b0",
   "metadata": {},
   "source": [
    "Log Transforming Negatively Skewed Data"
   ]
  },
  {
   "cell_type": "code",
   "execution_count": 32,
   "id": "00067456",
   "metadata": {},
   "outputs": [
    {
     "data": {
      "text/plain": [
       "<AxesSubplot:>"
      ]
     },
     "execution_count": 32,
     "metadata": {},
     "output_type": "execute_result"
    },
    {
     "data": {
      "image/png": "[encoded data removed]",
      "text/plain": [
       "<Figure size 432x288 with 1 Axes>"
      ]
     },
     "metadata": {
      "needs_background": "light"
     },
     "output_type": "display_data"
    }
   ],
   "source": [
    "# Log transformation of negatively (left) skewed data in Python\n",
    "df.insert(len(df.columns), 'D_log',\n",
    "         np.log(max(df.iloc[:, 2] + 1) - df.iloc[:, 2]))\n",
    "\n",
    "df['D_log'].hist(bins=30)"
   ]
  },
  {
   "cell_type": "markdown",
   "id": "5ace3fb5",
   "metadata": {},
   "source": [
    "                                 Box-Cox Transformation in Python"
   ]
  },
  {
   "cell_type": "code",
   "execution_count": 35,
   "id": "df412876",
   "metadata": {},
   "outputs": [
    {
     "data": {
      "text/plain": [
       "<AxesSubplot:>"
      ]
     },
     "execution_count": 35,
     "metadata": {},
     "output_type": "execute_result"
    },
    {
     "data": {
      "image/png": "[encoded data removed]",
      "text/plain": [
       "<Figure size 432x288 with 1 Axes>"
      ]
     },
     "metadata": {
      "needs_background": "light"
     },
     "output_type": "display_data"
    }
   ],
   "source": [
    "from scipy.stats import boxcox\n",
    "\n",
    "# Box-Cox Transformation in Python\n",
    "df.insert(len(df.columns), 'A_Boxcox', \n",
    "              boxcox(df.iloc[:, 0])[0])\n",
    "\n",
    "df['A_Boxcox'].hist(bins=30)"
   ]
  },
  {
   "cell_type": "markdown",
   "id": "09275df6",
   "metadata": {},
   "source": [
    "Once again, we managed to transform our positively skewed data to a relatively symmetrical distribution. Now, the Box-Cox transformation also requires our data to only contain positive numbers so if we want to apply it on negatively skewed data we need to reverse it (see the previous examples on how to reverse your distribution). If we try to use boxcox() on the column “Moderate Negative Skewed”, for example, we get a ValueError. \n",
    "\n",
    "More exactly, if you get the “ValueError: Data must be positive” while using either np.sqrt(), np.log() or SciPy’s boxcox() it is because your dependent variable contains negative numbers. To solve this, you can reverse the distribution. \n",
    "\n",
    "It is worth noting, here, that we can now check the skewness using the skew() method:"
   ]
  },
  {
   "cell_type": "code",
   "execution_count": 36,
   "id": "36db280f",
   "metadata": {},
   "outputs": [
    {
     "data": {
      "text/html": [
       "<div>\n",
       "<style scoped>\n",
       "    .dataframe tbody tr th:only-of-type {\n",
       "        vertical-align: middle;\n",
       "    }\n",
       "\n",
       "    .dataframe tbody tr th {\n",
       "        vertical-align: top;\n",
       "    }\n",
       "\n",
       "    .dataframe thead th {\n",
       "        text-align: right;\n",
       "    }\n",
       "</style>\n",
       "<table border=\"1\" class=\"dataframe\">\n",
       "  <thead>\n",
       "    <tr style=\"text-align: right;\">\n",
       "      <th></th>\n",
       "      <th>skew</th>\n",
       "    </tr>\n",
       "  </thead>\n",
       "  <tbody>\n",
       "    <tr>\n",
       "      <th>Moderate Positive Skew</th>\n",
       "      <td>0.656308</td>\n",
       "    </tr>\n",
       "    <tr>\n",
       "      <th>Highly Positive Skew</th>\n",
       "      <td>1.271249</td>\n",
       "    </tr>\n",
       "    <tr>\n",
       "      <th>Moderate Negative Skew</th>\n",
       "      <td>-0.690244</td>\n",
       "    </tr>\n",
       "    <tr>\n",
       "      <th>Highly Negative Skew</th>\n",
       "      <td>-1.201891</td>\n",
       "    </tr>\n",
       "    <tr>\n",
       "      <th>A_Sqrt</th>\n",
       "      <td>0.152479</td>\n",
       "    </tr>\n",
       "    <tr>\n",
       "      <th>B_Sqrt</th>\n",
       "      <td>0.179761</td>\n",
       "    </tr>\n",
       "    <tr>\n",
       "      <th>C_log</th>\n",
       "      <td>0.398780</td>\n",
       "    </tr>\n",
       "    <tr>\n",
       "      <th>D_log</th>\n",
       "      <td>-0.361324</td>\n",
       "    </tr>\n",
       "    <tr>\n",
       "      <th>A_Boxcox</th>\n",
       "      <td>0.000155</td>\n",
       "    </tr>\n",
       "  </tbody>\n",
       "</table>\n",
       "</div>"
      ],
      "text/plain": [
       "                            skew\n",
       "Moderate Positive Skew  0.656308\n",
       "Highly Positive Skew    1.271249\n",
       "Moderate Negative Skew -0.690244\n",
       "Highly Negative Skew   -1.201891\n",
       "A_Sqrt                  0.152479\n",
       "B_Sqrt                  0.179761\n",
       "C_log                   0.398780\n",
       "D_log                  -0.361324\n",
       "A_Boxcox                0.000155"
      ]
     },
     "execution_count": 36,
     "metadata": {},
     "output_type": "execute_result"
    }
   ],
   "source": [
    "df.agg(['skew']).transpose()"
   ]
  }
 ],
 "metadata": {
  "kernelspec": {
   "display_name": "Python 3",
   "language": "python",
   "name": "python3"
  },
  "language_info": {
   "codemirror_mode": {
    "name": "ipython",
    "version": 3
   },
   "file_extension": ".py",
   "mimetype": "text/x-python",
   "name": "python",
   "nbconvert_exporter": "python",
   "pygments_lexer": "ipython3",
   "version": "3.8.8"
  }
 },
 "nbformat": 4,
 "nbformat_minor": 5
}
